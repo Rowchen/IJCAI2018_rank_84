{
 "cells": [
  {
   "cell_type": "code",
   "execution_count": 1,
   "metadata": {
    "collapsed": true,
    "deletable": true,
    "editable": true
   },
   "outputs": [],
   "source": [
    "import lightgbm as lgb\n",
    "import pandas as pd\n",
    "import numpy as np\n",
    "import gc\n",
    "%matplotlib inline\n",
    "import matplotlib.pyplot as plt\n",
    "from sklearn.metrics import log_loss\n",
    "from sklearn import preprocessing\n",
    "lbl = preprocessing.LabelEncoder()"
   ]
  },
  {
   "cell_type": "code",
   "execution_count": 2,
   "metadata": {
    "collapsed": false,
    "deletable": true,
    "editable": true
   },
   "outputs": [],
   "source": [
    "%run utils.py\n",
    "%run data_process.py"
   ]
  },
  {
   "cell_type": "code",
   "execution_count": 3,
   "metadata": {
    "collapsed": false,
    "deletable": true,
    "editable": true
   },
   "outputs": [],
   "source": [
    "test_save=pd.read_csv('../data/test.txt',sep=\" \")\n",
    "test_save['model']=test_save['user_id'].apply(lambda x:x%10)\n",
    "test_save['predicted_score']=0"
   ]
  },
  {
   "cell_type": "code",
   "execution_count": 381,
   "metadata": {
    "collapsed": false,
    "deletable": true,
    "editable": true
   },
   "outputs": [
    {
     "data": {
      "text/plain": [
       "469"
      ]
     },
     "execution_count": 381,
     "metadata": {},
     "output_type": "execute_result"
    }
   ],
   "source": [
    "i=5\n",
    "data=pd.read_csv('../data/sub%d.txt'%i,sep=\" \")\n",
    "data=data.append(test_save[test_save.model==i]).reset_index().drop(['index'],axis=1)\n",
    "data['is_trade']=data['is_trade'].fillna(0)\n",
    "data = data.sort_values(by='context_timestamp').reset_index().drop(['index'],axis=1)\n",
    "gc.collect()"
   ]
  },
  {
   "cell_type": "code",
   "execution_count": 382,
   "metadata": {
    "collapsed": false,
    "deletable": true,
    "editable": true
   },
   "outputs": [
    {
     "name": "stdout",
     "output_type": "stream",
     "text": [
      "encode cate id now\n",
      "fill nan now\n",
      "encode now\n",
      "decode time\n",
      "cate_match\n",
      "tongji\n",
      "peng_feature\n",
      "60.7159998417\n"
     ]
    }
   ],
   "source": [
    "data=data_process0(data)\n",
    "data=data_process1(data)\n",
    "data=data_process2(data)\n",
    "data=data_process3(data)\n",
    "data=data_process4(data)\n",
    "data=data_process5(data)\n",
    "data=data_process7(data)\n",
    "data=get_peng_feature(data)"
   ]
  },
  {
   "cell_type": "code",
   "execution_count": 383,
   "metadata": {
    "collapsed": false,
    "deletable": true,
    "editable": true
   },
   "outputs": [],
   "source": [
    "tmp=data.groupby(['user_id','item_id'],as_index=False)['user_item_cumcount'].max().rename(columns={'user_item_cumcount':'user_item_maxrank'})\n",
    "data=data.merge(tmp,on=['user_id','item_id'],how='left')\n",
    "data['user_item_last']=(data['user_item_cumcount']==data['user_item_maxrank'])"
   ]
  },
  {
   "cell_type": "code",
   "execution_count": 384,
   "metadata": {
    "collapsed": true,
    "deletable": true,
    "editable": true
   },
   "outputs": [],
   "source": [
    "day={7:data[data.day==7].copy()}"
   ]
  },
  {
   "cell_type": "code",
   "execution_count": 385,
   "metadata": {
    "collapsed": false,
    "deletable": true,
    "editable": true
   },
   "outputs": [
    {
     "name": "stdout",
     "output_type": "stream",
     "text": [
      "['cnt_shop_id', 'cnt_item_id', 'cnt_user_id', 'cnt_item_brand_id', 'cnt_item_city_id', 'cnt_user_id_item_id', 'cnt_user_id_shop_id', 'cnt_user_id_item_brand_id', 'cnt_user_id_item_city_id'] ['sum_shop_id', 'sum_item_id', 'sum_user_id', 'sum_item_brand_id', 'sum_item_city_id', 'sum_user_id_item_id', 'sum_user_id_shop_id', 'sum_user_id_item_brand_id', 'sum_user_id_item_city_id']\n"
     ]
    }
   ],
   "source": [
    "count_list=[]\n",
    "sum_list=[]\n",
    "'''\n",
    "统计7天之内的点击数,购买数，反映热度\n",
    "'''\n",
    "for cols in [['shop_id'],['item_id'],['user_id'],['item_brand_id'],['item_city_id'],\n",
    "             ['user_id','item_id'],['user_id','shop_id'],['user_id','item_brand_id'],['user_id','item_city_id']]:\n",
    "    if len(cols)==1:\n",
    "        name1='cnt_'+cols[0]\n",
    "        name2='sum_'+cols[0]\n",
    "    else:\n",
    "        name1='cnt_'+cols[0]+'_'+cols[1]\n",
    "        name2='sum_'+cols[0]+'_'+cols[1]\n",
    "    if name1 in day[7].columns:\n",
    "        del day[7][name1]\n",
    "    if name2 in day[7].columns:\n",
    "        del day[7][name2]\n",
    "        \n",
    "    day[7]=day[7].merge(get_silde_cnt2(data,7,cols,name1,7),on=cols,how='left')\n",
    "    day[7][name1]=day[7][name1].fillna(0)\n",
    "    day[7]=day[7].merge(get_silde_sum2(data,7,cols,name2,7),on=cols,how='left')\n",
    "    day[7][name2]=day[7][name2].fillna(0)\n",
    "    gc.collect()\n",
    "    count_list+=[name1]\n",
    "    sum_list+=[name2]\n",
    "print count_list,sum_list"
   ]
  },
  {
   "cell_type": "code",
   "execution_count": 389,
   "metadata": {
    "collapsed": true,
    "deletable": true,
    "editable": true
   },
   "outputs": [],
   "source": [
    "day[7]['item_user_ratio']=day[7]['cnt_user_id_item_id']/day[7]['cnt_user_id']\n",
    "day[7]['shop_user_ratio']=day[7]['cnt_user_id_shop_id']/day[7]['cnt_user_id']\n",
    "day[7]['brand_user_ratio']=day[7]['cnt_user_id_item_brand_id']/day[7]['cnt_user_id']\n",
    "day[7]['user_item_cumcount2']=day[7]['user_item_cumcount']/day[7]['user_item_maxrank']\n",
    "day[7]=get_count(day[7],['user_id'],'day7_user_cnt','instance_id')"
   ]
  },
  {
   "cell_type": "code",
   "execution_count": 397,
   "metadata": {
    "collapsed": false,
    "deletable": true,
    "editable": true
   },
   "outputs": [
    {
     "name": "stdout",
     "output_type": "stream",
     "text": [
      "72\n"
     ]
    }
   ],
   "source": [
    "if 'cnt_user_id' in count_list:\n",
    "    count_list.remove('cnt_user_id')\n",
    "    sum_list.remove('sum_user_id')\n",
    "ratio_list=['item_user_ratio','shop_user_ratio','brand_user_ratio']\n",
    "peng_feature=['user_count_10_bf','user_count_10_af','user_shop_count_10_bf','user_shop_count_10_af','user_item_count_10_bf','user_item_count_10_af']\n",
    "cate_feature=['user_gender_id','user_occupation_id','cate_id']\n",
    "features=[ 'item_price_level', 'item_sales_level','item_collected_level','item_pv_level','user_age_level', 'user_star_level',\n",
    "         'shop_review_num_level', 'shop_star_level','shop_review_positive_rate', 'shop_score_service','shop_score_delivery', \n",
    "        'shop_score_description','cate_match','context_page_id']+\\\n",
    "        [ 'shop_item_nunique','user_price_rank','user_sale_rank','user_collect_rank','user_shop_cumcount','user_item_cumcount',\n",
    "        'price_rank','sale_rank','collect_rank']+\\\n",
    "        cate_feature+count_list+sum_list+ratio_list+peng_feature+['user_item_last','user_item_cumcount2','day7_user_cnt']\n",
    "target='is_trade'\n",
    "print len(features)"
   ]
  },
  {
   "cell_type": "code",
   "execution_count": 392,
   "metadata": {
    "collapsed": false,
    "deletable": true,
    "editable": true
   },
   "outputs": [
    {
     "name": "stdout",
     "output_type": "stream",
     "text": [
      "(80685, 107) (26897, 107) (51766, 107)\n"
     ]
    },
    {
     "data": {
      "text/plain": [
       "157"
      ]
     },
     "execution_count": 392,
     "metadata": {},
     "output_type": "execute_result"
    }
   ],
   "source": [
    "filter_day7=(day[7].hour>9)\n",
    "train=day[7][(day[7].model.isnull())&(~filter_day7)].copy().reset_index().drop('index',axis=1)\n",
    "val=day[7][(day[7].model.isnull())&(filter_day7)].copy().reset_index().drop('index',axis=1)\n",
    "test=day[7][day[7].model.notnull()].copy().reset_index().drop('index',axis=1)\n",
    "print train.shape,val.shape,test.shape\n",
    "gc.collect()"
   ]
  },
  {
   "cell_type": "code",
   "execution_count": 398,
   "metadata": {
    "collapsed": false,
    "deletable": true,
    "editable": true,
    "scrolled": true
   },
   "outputs": [
    {
     "name": "stdout",
     "output_type": "stream",
     "text": [
      "Training until validation scores don't improve for 40 rounds.\n",
      "[40]\tvalid_0's binary_logloss: 0.280931\n",
      "[80]\tvalid_0's binary_logloss: 0.190626\n",
      "[120]\tvalid_0's binary_logloss: 0.172231\n",
      "[160]\tvalid_0's binary_logloss: 0.167255\n",
      "[200]\tvalid_0's binary_logloss: 0.165326\n",
      "[240]\tvalid_0's binary_logloss: 0.164458\n",
      "[280]\tvalid_0's binary_logloss: 0.164039\n",
      "[320]\tvalid_0's binary_logloss: 0.163761\n",
      "[360]\tvalid_0's binary_logloss: 0.163578\n",
      "[400]\tvalid_0's binary_logloss: 0.163523\n",
      "[440]\tvalid_0's binary_logloss: 0.163482\n",
      "[480]\tvalid_0's binary_logloss: 0.163469\n",
      "Early stopping, best iteration is:\n",
      "[471]\tvalid_0's binary_logloss: 0.163451\n",
      "0.163450803242 0.165589676499\n"
     ]
    }
   ],
   "source": [
    "gbm = lgb.LGBMClassifier(objective='binary',\n",
    "                                max_depth=5,\n",
    "                                num_leaves=16,\n",
    "                                learning_rate=0.03,\n",
    "                                n_estimators=2000,\n",
    "                                colsample_bytree=0.3,#0.3\n",
    "                                subsample = 0.75,#0.75\n",
    "                                n_jobs=4,\n",
    "                                lambda_l2=10,\n",
    "                                seed=2018\n",
    "                                )\n",
    "gbm.fit(train[features],train[target],categorical_feature=cate_feature,\n",
    "                    eval_set=[(val[features],val[target])],\n",
    "                    eval_metric='binary_logloss',\n",
    "                    early_stopping_rounds=40,verbose=40)\n",
    "\n",
    "val_error=gbm.best_score_['valid_0']['binary_logloss']\n",
    "best_model=gbm.booster_\n",
    "train_pred=best_model.predict(train[features], num_iteration=best_model.best_iteration)\n",
    "print val_error,log_loss(train[target],train_pred)"
   ]
  },
  {
   "cell_type": "code",
   "execution_count": null,
   "metadata": {
    "collapsed": true,
    "deletable": true,
    "editable": true
   },
   "outputs": [],
   "source": []
  },
  {
   "cell_type": "code",
   "execution_count": null,
   "metadata": {
    "collapsed": true,
    "deletable": true,
    "editable": true
   },
   "outputs": [],
   "source": []
  }
 ],
 "metadata": {
  "kernelspec": {
   "display_name": "Python 2",
   "language": "python",
   "name": "python2"
  },
  "language_info": {
   "codemirror_mode": {
    "name": "ipython",
    "version": 2
   },
   "file_extension": ".py",
   "mimetype": "text/x-python",
   "name": "python",
   "nbconvert_exporter": "python",
   "pygments_lexer": "ipython2",
   "version": "2.7.13"
  }
 },
 "nbformat": 4,
 "nbformat_minor": 0
}
